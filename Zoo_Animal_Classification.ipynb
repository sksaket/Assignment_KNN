{
  "nbformat": 4,
  "nbformat_minor": 0,
  "metadata": {
    "colab": {
      "name": "Zoo-Animal-Classification.ipynb",
      "provenance": [],
      "authorship_tag": "ABX9TyPvfROsA3MfLwwZgKAQBaQk",
      "include_colab_link": true
    },
    "kernelspec": {
      "name": "python3",
      "display_name": "Python 3"
    },
    "language_info": {
      "name": "python"
    }
  },
  "cells": [
    {
      "cell_type": "markdown",
      "metadata": {
        "id": "view-in-github",
        "colab_type": "text"
      },
      "source": [
        "<a href=\"https://colab.research.google.com/github/sksaket/Assignment_KNN/blob/main/Zoo_Animal_Classification.ipynb\" target=\"_parent\"><img src=\"https://colab.research.google.com/assets/colab-badge.svg\" alt=\"Open In Colab\"/></a>"
      ]
    },
    {
      "cell_type": "code",
      "metadata": {
        "id": "tcRF6_sSrIvP"
      },
      "source": [
        "import numpy as np # linear algebra\n",
        "import pandas as pd # data processing, CSV file I/O\n",
        "import matplotlib.pyplot as plt\n",
        "from matplotlib.colors import ListedColormap\n",
        "import seaborn as sns \n",
        "import warnings \n",
        "warnings.filterwarnings(\"ignore\")\n",
        "\n",
        "\n",
        "%matplotlib inline"
      ],
      "execution_count": 38,
      "outputs": []
    },
    {
      "cell_type": "code",
      "metadata": {
        "colab": {
          "base_uri": "https://localhost:8080/",
          "height": 377
        },
        "id": "TQcyY2nXrrID",
        "outputId": "983758e4-b930-471b-a588-16b38f6f5d02"
      },
      "source": [
        "animal = pd.read_csv('/content/Zoo.csv')\n",
        "animal.head(10)"
      ],
      "execution_count": 39,
      "outputs": [
        {
          "output_type": "execute_result",
          "data": {
            "text/html": [
              "<div>\n",
              "<style scoped>\n",
              "    .dataframe tbody tr th:only-of-type {\n",
              "        vertical-align: middle;\n",
              "    }\n",
              "\n",
              "    .dataframe tbody tr th {\n",
              "        vertical-align: top;\n",
              "    }\n",
              "\n",
              "    .dataframe thead th {\n",
              "        text-align: right;\n",
              "    }\n",
              "</style>\n",
              "<table border=\"1\" class=\"dataframe\">\n",
              "  <thead>\n",
              "    <tr style=\"text-align: right;\">\n",
              "      <th></th>\n",
              "      <th>animal_name</th>\n",
              "      <th>hair</th>\n",
              "      <th>feathers</th>\n",
              "      <th>eggs</th>\n",
              "      <th>milk</th>\n",
              "      <th>airborne</th>\n",
              "      <th>aquatic</th>\n",
              "      <th>predator</th>\n",
              "      <th>toothed</th>\n",
              "      <th>backbone</th>\n",
              "      <th>breathes</th>\n",
              "      <th>venomous</th>\n",
              "      <th>fins</th>\n",
              "      <th>legs</th>\n",
              "      <th>tail</th>\n",
              "      <th>domestic</th>\n",
              "      <th>catsize</th>\n",
              "      <th>type</th>\n",
              "    </tr>\n",
              "  </thead>\n",
              "  <tbody>\n",
              "    <tr>\n",
              "      <th>0</th>\n",
              "      <td>aardvark</td>\n",
              "      <td>1</td>\n",
              "      <td>0</td>\n",
              "      <td>0</td>\n",
              "      <td>1</td>\n",
              "      <td>0</td>\n",
              "      <td>0</td>\n",
              "      <td>1</td>\n",
              "      <td>1</td>\n",
              "      <td>1</td>\n",
              "      <td>1</td>\n",
              "      <td>0</td>\n",
              "      <td>0</td>\n",
              "      <td>4</td>\n",
              "      <td>0</td>\n",
              "      <td>0</td>\n",
              "      <td>1</td>\n",
              "      <td>1</td>\n",
              "    </tr>\n",
              "    <tr>\n",
              "      <th>1</th>\n",
              "      <td>antelope</td>\n",
              "      <td>1</td>\n",
              "      <td>0</td>\n",
              "      <td>0</td>\n",
              "      <td>1</td>\n",
              "      <td>0</td>\n",
              "      <td>0</td>\n",
              "      <td>0</td>\n",
              "      <td>1</td>\n",
              "      <td>1</td>\n",
              "      <td>1</td>\n",
              "      <td>0</td>\n",
              "      <td>0</td>\n",
              "      <td>4</td>\n",
              "      <td>1</td>\n",
              "      <td>0</td>\n",
              "      <td>1</td>\n",
              "      <td>1</td>\n",
              "    </tr>\n",
              "    <tr>\n",
              "      <th>2</th>\n",
              "      <td>bass</td>\n",
              "      <td>0</td>\n",
              "      <td>0</td>\n",
              "      <td>1</td>\n",
              "      <td>0</td>\n",
              "      <td>0</td>\n",
              "      <td>1</td>\n",
              "      <td>1</td>\n",
              "      <td>1</td>\n",
              "      <td>1</td>\n",
              "      <td>0</td>\n",
              "      <td>0</td>\n",
              "      <td>1</td>\n",
              "      <td>0</td>\n",
              "      <td>1</td>\n",
              "      <td>0</td>\n",
              "      <td>0</td>\n",
              "      <td>4</td>\n",
              "    </tr>\n",
              "    <tr>\n",
              "      <th>3</th>\n",
              "      <td>bear</td>\n",
              "      <td>1</td>\n",
              "      <td>0</td>\n",
              "      <td>0</td>\n",
              "      <td>1</td>\n",
              "      <td>0</td>\n",
              "      <td>0</td>\n",
              "      <td>1</td>\n",
              "      <td>1</td>\n",
              "      <td>1</td>\n",
              "      <td>1</td>\n",
              "      <td>0</td>\n",
              "      <td>0</td>\n",
              "      <td>4</td>\n",
              "      <td>0</td>\n",
              "      <td>0</td>\n",
              "      <td>1</td>\n",
              "      <td>1</td>\n",
              "    </tr>\n",
              "    <tr>\n",
              "      <th>4</th>\n",
              "      <td>boar</td>\n",
              "      <td>1</td>\n",
              "      <td>0</td>\n",
              "      <td>0</td>\n",
              "      <td>1</td>\n",
              "      <td>0</td>\n",
              "      <td>0</td>\n",
              "      <td>1</td>\n",
              "      <td>1</td>\n",
              "      <td>1</td>\n",
              "      <td>1</td>\n",
              "      <td>0</td>\n",
              "      <td>0</td>\n",
              "      <td>4</td>\n",
              "      <td>1</td>\n",
              "      <td>0</td>\n",
              "      <td>1</td>\n",
              "      <td>1</td>\n",
              "    </tr>\n",
              "    <tr>\n",
              "      <th>5</th>\n",
              "      <td>buffalo</td>\n",
              "      <td>1</td>\n",
              "      <td>0</td>\n",
              "      <td>0</td>\n",
              "      <td>1</td>\n",
              "      <td>0</td>\n",
              "      <td>0</td>\n",
              "      <td>0</td>\n",
              "      <td>1</td>\n",
              "      <td>1</td>\n",
              "      <td>1</td>\n",
              "      <td>0</td>\n",
              "      <td>0</td>\n",
              "      <td>4</td>\n",
              "      <td>1</td>\n",
              "      <td>0</td>\n",
              "      <td>1</td>\n",
              "      <td>1</td>\n",
              "    </tr>\n",
              "    <tr>\n",
              "      <th>6</th>\n",
              "      <td>calf</td>\n",
              "      <td>1</td>\n",
              "      <td>0</td>\n",
              "      <td>0</td>\n",
              "      <td>1</td>\n",
              "      <td>0</td>\n",
              "      <td>0</td>\n",
              "      <td>0</td>\n",
              "      <td>1</td>\n",
              "      <td>1</td>\n",
              "      <td>1</td>\n",
              "      <td>0</td>\n",
              "      <td>0</td>\n",
              "      <td>4</td>\n",
              "      <td>1</td>\n",
              "      <td>1</td>\n",
              "      <td>1</td>\n",
              "      <td>1</td>\n",
              "    </tr>\n",
              "    <tr>\n",
              "      <th>7</th>\n",
              "      <td>carp</td>\n",
              "      <td>0</td>\n",
              "      <td>0</td>\n",
              "      <td>1</td>\n",
              "      <td>0</td>\n",
              "      <td>0</td>\n",
              "      <td>1</td>\n",
              "      <td>0</td>\n",
              "      <td>1</td>\n",
              "      <td>1</td>\n",
              "      <td>0</td>\n",
              "      <td>0</td>\n",
              "      <td>1</td>\n",
              "      <td>0</td>\n",
              "      <td>1</td>\n",
              "      <td>1</td>\n",
              "      <td>0</td>\n",
              "      <td>4</td>\n",
              "    </tr>\n",
              "    <tr>\n",
              "      <th>8</th>\n",
              "      <td>catfish</td>\n",
              "      <td>0</td>\n",
              "      <td>0</td>\n",
              "      <td>1</td>\n",
              "      <td>0</td>\n",
              "      <td>0</td>\n",
              "      <td>1</td>\n",
              "      <td>1</td>\n",
              "      <td>1</td>\n",
              "      <td>1</td>\n",
              "      <td>0</td>\n",
              "      <td>0</td>\n",
              "      <td>1</td>\n",
              "      <td>0</td>\n",
              "      <td>1</td>\n",
              "      <td>0</td>\n",
              "      <td>0</td>\n",
              "      <td>4</td>\n",
              "    </tr>\n",
              "    <tr>\n",
              "      <th>9</th>\n",
              "      <td>cavy</td>\n",
              "      <td>1</td>\n",
              "      <td>0</td>\n",
              "      <td>0</td>\n",
              "      <td>1</td>\n",
              "      <td>0</td>\n",
              "      <td>0</td>\n",
              "      <td>0</td>\n",
              "      <td>1</td>\n",
              "      <td>1</td>\n",
              "      <td>1</td>\n",
              "      <td>0</td>\n",
              "      <td>0</td>\n",
              "      <td>4</td>\n",
              "      <td>0</td>\n",
              "      <td>1</td>\n",
              "      <td>0</td>\n",
              "      <td>1</td>\n",
              "    </tr>\n",
              "  </tbody>\n",
              "</table>\n",
              "</div>"
            ],
            "text/plain": [
              "  animal_name  hair  feathers  eggs  milk  ...  legs  tail  domestic  catsize  type\n",
              "0    aardvark     1         0     0     1  ...     4     0         0        1     1\n",
              "1    antelope     1         0     0     1  ...     4     1         0        1     1\n",
              "2        bass     0         0     1     0  ...     0     1         0        0     4\n",
              "3        bear     1         0     0     1  ...     4     0         0        1     1\n",
              "4        boar     1         0     0     1  ...     4     1         0        1     1\n",
              "5     buffalo     1         0     0     1  ...     4     1         0        1     1\n",
              "6        calf     1         0     0     1  ...     4     1         1        1     1\n",
              "7        carp     0         0     1     0  ...     0     1         1        0     4\n",
              "8     catfish     0         0     1     0  ...     0     1         0        0     4\n",
              "9        cavy     1         0     0     1  ...     4     0         1        0     1\n",
              "\n",
              "[10 rows x 18 columns]"
            ]
          },
          "metadata": {},
          "execution_count": 39
        }
      ]
    },
    {
      "cell_type": "code",
      "metadata": {
        "colab": {
          "base_uri": "https://localhost:8080/"
        },
        "id": "l_Ie0Z8arrPD",
        "outputId": "f5ff24f7-1d56-4303-f05e-7047ed9afadc"
      },
      "source": [
        "animal.info()"
      ],
      "execution_count": 40,
      "outputs": [
        {
          "output_type": "stream",
          "name": "stdout",
          "text": [
            "<class 'pandas.core.frame.DataFrame'>\n",
            "RangeIndex: 101 entries, 0 to 100\n",
            "Data columns (total 18 columns):\n",
            " #   Column       Non-Null Count  Dtype \n",
            "---  ------       --------------  ----- \n",
            " 0   animal_name  101 non-null    object\n",
            " 1   hair         101 non-null    int64 \n",
            " 2   feathers     101 non-null    int64 \n",
            " 3   eggs         101 non-null    int64 \n",
            " 4   milk         101 non-null    int64 \n",
            " 5   airborne     101 non-null    int64 \n",
            " 6   aquatic      101 non-null    int64 \n",
            " 7   predator     101 non-null    int64 \n",
            " 8   toothed      101 non-null    int64 \n",
            " 9   backbone     101 non-null    int64 \n",
            " 10  breathes     101 non-null    int64 \n",
            " 11  venomous     101 non-null    int64 \n",
            " 12  fins         101 non-null    int64 \n",
            " 13  legs         101 non-null    int64 \n",
            " 14  tail         101 non-null    int64 \n",
            " 15  domestic     101 non-null    int64 \n",
            " 16  catsize      101 non-null    int64 \n",
            " 17  type         101 non-null    int64 \n",
            "dtypes: int64(17), object(1)\n",
            "memory usage: 14.3+ KB\n"
          ]
        }
      ]
    },
    {
      "cell_type": "code",
      "metadata": {
        "colab": {
          "base_uri": "https://localhost:8080/"
        },
        "id": "cMRpyPturrR1",
        "outputId": "967d775e-ad9f-4355-bfa7-afd6e38a1e37"
      },
      "source": [
        "# Evaluate the missing values and duplicates\n",
        "animal.isnull().sum()"
      ],
      "execution_count": 41,
      "outputs": [
        {
          "output_type": "execute_result",
          "data": {
            "text/plain": [
              "animal_name    0\n",
              "hair           0\n",
              "feathers       0\n",
              "eggs           0\n",
              "milk           0\n",
              "airborne       0\n",
              "aquatic        0\n",
              "predator       0\n",
              "toothed        0\n",
              "backbone       0\n",
              "breathes       0\n",
              "venomous       0\n",
              "fins           0\n",
              "legs           0\n",
              "tail           0\n",
              "domestic       0\n",
              "catsize        0\n",
              "type           0\n",
              "dtype: int64"
            ]
          },
          "metadata": {},
          "execution_count": 41
        }
      ]
    },
    {
      "cell_type": "code",
      "metadata": {
        "colab": {
          "base_uri": "https://localhost:8080/"
        },
        "id": "9s-tj99irrTq",
        "outputId": "bacdb74a-7997-4c24-b75e-5120ea2fad56"
      },
      "source": [
        "#check if there are duplicates in animal_name\n",
        "duplicates = animal.animal_name.value_counts()\n",
        "duplicates[duplicates > 1]"
      ],
      "execution_count": 42,
      "outputs": [
        {
          "output_type": "execute_result",
          "data": {
            "text/plain": [
              "frog    2\n",
              "Name: animal_name, dtype: int64"
            ]
          },
          "metadata": {},
          "execution_count": 42
        }
      ]
    },
    {
      "cell_type": "code",
      "metadata": {
        "colab": {
          "base_uri": "https://localhost:8080/",
          "height": 130
        },
        "id": "MGsEGjkErrVd",
        "outputId": "521e4f84-7b41-42aa-f7bc-59abda363004"
      },
      "source": [
        "#select these duplicates frog\n",
        "frog = animal.loc[animal['animal_name'] == 'frog']\n",
        "frog"
      ],
      "execution_count": 43,
      "outputs": [
        {
          "output_type": "execute_result",
          "data": {
            "text/html": [
              "<div>\n",
              "<style scoped>\n",
              "    .dataframe tbody tr th:only-of-type {\n",
              "        vertical-align: middle;\n",
              "    }\n",
              "\n",
              "    .dataframe tbody tr th {\n",
              "        vertical-align: top;\n",
              "    }\n",
              "\n",
              "    .dataframe thead th {\n",
              "        text-align: right;\n",
              "    }\n",
              "</style>\n",
              "<table border=\"1\" class=\"dataframe\">\n",
              "  <thead>\n",
              "    <tr style=\"text-align: right;\">\n",
              "      <th></th>\n",
              "      <th>animal_name</th>\n",
              "      <th>hair</th>\n",
              "      <th>feathers</th>\n",
              "      <th>eggs</th>\n",
              "      <th>milk</th>\n",
              "      <th>airborne</th>\n",
              "      <th>aquatic</th>\n",
              "      <th>predator</th>\n",
              "      <th>toothed</th>\n",
              "      <th>backbone</th>\n",
              "      <th>breathes</th>\n",
              "      <th>venomous</th>\n",
              "      <th>fins</th>\n",
              "      <th>legs</th>\n",
              "      <th>tail</th>\n",
              "      <th>domestic</th>\n",
              "      <th>catsize</th>\n",
              "      <th>type</th>\n",
              "    </tr>\n",
              "  </thead>\n",
              "  <tbody>\n",
              "    <tr>\n",
              "      <th>25</th>\n",
              "      <td>frog</td>\n",
              "      <td>0</td>\n",
              "      <td>0</td>\n",
              "      <td>1</td>\n",
              "      <td>0</td>\n",
              "      <td>0</td>\n",
              "      <td>1</td>\n",
              "      <td>1</td>\n",
              "      <td>1</td>\n",
              "      <td>1</td>\n",
              "      <td>1</td>\n",
              "      <td>0</td>\n",
              "      <td>0</td>\n",
              "      <td>4</td>\n",
              "      <td>0</td>\n",
              "      <td>0</td>\n",
              "      <td>0</td>\n",
              "      <td>5</td>\n",
              "    </tr>\n",
              "    <tr>\n",
              "      <th>26</th>\n",
              "      <td>frog</td>\n",
              "      <td>0</td>\n",
              "      <td>0</td>\n",
              "      <td>1</td>\n",
              "      <td>0</td>\n",
              "      <td>0</td>\n",
              "      <td>1</td>\n",
              "      <td>1</td>\n",
              "      <td>1</td>\n",
              "      <td>1</td>\n",
              "      <td>1</td>\n",
              "      <td>1</td>\n",
              "      <td>0</td>\n",
              "      <td>4</td>\n",
              "      <td>0</td>\n",
              "      <td>0</td>\n",
              "      <td>0</td>\n",
              "      <td>5</td>\n",
              "    </tr>\n",
              "  </tbody>\n",
              "</table>\n",
              "</div>"
            ],
            "text/plain": [
              "   animal_name  hair  feathers  eggs  milk  ...  legs  tail  domestic  catsize  type\n",
              "25        frog     0         0     1     0  ...     4     0         0        0     5\n",
              "26        frog     0         0     1     0  ...     4     0         0        0     5\n",
              "\n",
              "[2 rows x 18 columns]"
            ]
          },
          "metadata": {},
          "execution_count": 43
        }
      ]
    },
    {
      "cell_type": "code",
      "metadata": {
        "id": "VxZ-ClHMrrXc"
      },
      "source": [
        "# observation: find that one frog is venomous and another one is not \n",
        "#              change the venomous one into frog2 to seperate 2 kinds of frog \n",
        "animal['animal_name'][(animal.venomous == 1 )& (animal.animal_name == 'frog')] = \"frog2\""
      ],
      "execution_count": 44,
      "outputs": []
    },
    {
      "cell_type": "code",
      "metadata": {
        "colab": {
          "base_uri": "https://localhost:8080/"
        },
        "id": "TssuPlMErrZW",
        "outputId": "337deafe-d979-417c-9e41-7a7b4cca22df"
      },
      "source": [
        "# finding Unique value of hair\n",
        "color_list = [(\"red\" if i == 1 else \"blue\" if i == 0 else \"yellow\" ) for i in animal.hair]\n",
        "unique_color = list(set(color_list))\n",
        "unique_color"
      ],
      "execution_count": 45,
      "outputs": [
        {
          "output_type": "execute_result",
          "data": {
            "text/plain": [
              "['red', 'blue']"
            ]
          },
          "metadata": {},
          "execution_count": 45
        }
      ]
    },
    {
      "cell_type": "code",
      "metadata": {
        "colab": {
          "base_uri": "https://localhost:8080/",
          "height": 1000
        },
        "id": "lGoapVLMrrbQ",
        "outputId": "79e6af5b-7b5e-4141-9e9c-97d0bc6e36ec"
      },
      "source": [
        "# scatter matrix to observe relationship between every colomn attribute. \n",
        "pd.plotting.scatter_matrix(animal.iloc[:,:7],\n",
        "                                       c=color_list,\n",
        "                                       figsize= [20,20],\n",
        "                                       diagonal='hist',\n",
        "                                       alpha=1,\n",
        "                                       s = 300,\n",
        "                                       marker = '.',\n",
        "                                       edgecolor= \"black\")\n",
        "plt.show()"
      ],
      "execution_count": 46,
      "outputs": [
        {
          "output_type": "display_data",
          "data": {
            "image/png": "[encoded data removed]",
            "text/plain": [
              "<Figure size 1440x1440 with 36 Axes>"
            ]
          },
          "metadata": {
            "needs_background": "light"
          }
        }
      ]
    },
    {
      "cell_type": "code",
      "metadata": {
        "colab": {
          "base_uri": "https://localhost:8080/",
          "height": 330
        },
        "id": "lm5UFTDgrrc4",
        "outputId": "75ee84db-1e21-4ccd-abf2-9138c548fc73"
      },
      "source": [
        "sns.countplot(x=\"hair\", data=animal)\n",
        "plt.xlabel(\"Hair\")\n",
        "plt.ylabel(\"Count\")\n",
        "plt.show()\n",
        "animal.loc[:,'hair'].value_counts()"
      ],
      "execution_count": 47,
      "outputs": [
        {
          "output_type": "display_data",
          "data": {
            "image/png": "[encoded data removed]",
            "text/plain": [
              "<Figure size 432x288 with 1 Axes>"
            ]
          },
          "metadata": {
            "needs_background": "light"
          }
        },
        {
          "output_type": "execute_result",
          "data": {
            "text/plain": [
              "0    58\n",
              "1    43\n",
              "Name: hair, dtype: int64"
            ]
          },
          "metadata": {},
          "execution_count": 47
        }
      ]
    },
    {
      "cell_type": "code",
      "metadata": {
        "colab": {
          "base_uri": "https://localhost:8080/",
          "height": 128
        },
        "id": "eZvg1iMCrrfr",
        "outputId": "e389f931-3be7-4962-bf2a-def2c572d4d8"
      },
      "source": [
        "# Join animal table and class table to show actual class names\n",
        "ani_class = pd.read_csv('/content/animalclass.csv')\n",
        "df = pd.merge(animal,ani_class')\n",
        "df.head()"
      ],
      "execution_count": 59,
      "outputs": [
        {
          "output_type": "error",
          "ename": "SyntaxError",
          "evalue": "ignored",
          "traceback": [
            "\u001b[0;36m  File \u001b[0;32m\"<ipython-input-59-b844b5de0916>\"\u001b[0;36m, line \u001b[0;32m3\u001b[0m\n\u001b[0;31m    df = pd.merge(animal,ani_class')\u001b[0m\n\u001b[0m                                    ^\u001b[0m\n\u001b[0;31mSyntaxError\u001b[0m\u001b[0;31m:\u001b[0m EOL while scanning string literal\n"
          ]
        }
      ]
    },
    {
      "cell_type": "code",
      "metadata": {
        "colab": {
          "base_uri": "https://localhost:8080/",
          "height": 212
        },
        "id": "RefsPRh3rriw",
        "outputId": "179fa063-58b5-418a-bade-845b8a71d5c6"
      },
      "source": [
        "# finding Unique value of class_type\n",
        "type_list = [i for i in df.class_type]\n",
        "unique_type = list(set(type_list))\n",
        "unique_type"
      ],
      "execution_count": 50,
      "outputs": [
        {
          "output_type": "error",
          "ename": "NameError",
          "evalue": "ignored",
          "traceback": [
            "\u001b[0;31m---------------------------------------------------------------------------\u001b[0m",
            "\u001b[0;31mNameError\u001b[0m                                 Traceback (most recent call last)",
            "\u001b[0;32m<ipython-input-50-643bcaa1540d>\u001b[0m in \u001b[0;36m<module>\u001b[0;34m()\u001b[0m\n\u001b[1;32m      1\u001b[0m \u001b[0;31m# finding Unique value of class_type\u001b[0m\u001b[0;34m\u001b[0m\u001b[0;34m\u001b[0m\u001b[0;34m\u001b[0m\u001b[0m\n\u001b[0;32m----> 2\u001b[0;31m \u001b[0mtype_list\u001b[0m \u001b[0;34m=\u001b[0m \u001b[0;34m[\u001b[0m\u001b[0mi\u001b[0m \u001b[0;32mfor\u001b[0m \u001b[0mi\u001b[0m \u001b[0;32min\u001b[0m \u001b[0mdf\u001b[0m\u001b[0;34m.\u001b[0m\u001b[0mclass_type\u001b[0m\u001b[0;34m]\u001b[0m\u001b[0;34m\u001b[0m\u001b[0;34m\u001b[0m\u001b[0m\n\u001b[0m\u001b[1;32m      3\u001b[0m \u001b[0munique_type\u001b[0m \u001b[0;34m=\u001b[0m \u001b[0mlist\u001b[0m\u001b[0;34m(\u001b[0m\u001b[0mset\u001b[0m\u001b[0;34m(\u001b[0m\u001b[0mtype_list\u001b[0m\u001b[0;34m)\u001b[0m\u001b[0;34m)\u001b[0m\u001b[0;34m\u001b[0m\u001b[0;34m\u001b[0m\u001b[0m\n\u001b[1;32m      4\u001b[0m \u001b[0munique_type\u001b[0m\u001b[0;34m\u001b[0m\u001b[0;34m\u001b[0m\u001b[0m\n",
            "\u001b[0;31mNameError\u001b[0m: name 'df' is not defined"
          ]
        }
      ]
    },
    {
      "cell_type": "code",
      "metadata": {
        "id": "gJrL8SmYrrmg"
      },
      "source": [
        "#use seaborn to plot the count of each 7 class_type\n",
        "sns.factorplot('Class_Type', data=df, kind=\"count\",size = 5,aspect = 2)"
      ],
      "execution_count": null,
      "outputs": []
    },
    {
      "cell_type": "code",
      "metadata": {
        "id": "h715sMpIrrn4"
      },
      "source": [
        "# split train test data into 70/30.\n",
        "from sklearn.model_selection import train_test_split\n",
        "X = animal.iloc[:,1:17]\n",
        "y = animal.iloc[:,17]\n",
        "X_train, X_test, y_train, y_test = train_test_split(X, y, test_size=0.3, random_state=1, stratify=y)"
      ],
      "execution_count": null,
      "outputs": []
    },
    {
      "cell_type": "markdown",
      "metadata": {
        "id": "XqKYTXYUszP0"
      },
      "source": [
        "# **3. Training and Testing The Data**"
      ]
    },
    {
      "cell_type": "markdown",
      "metadata": {
        "id": "2copKllzt17P"
      },
      "source": [
        "* K-Nearest Neighbors\n",
        "* Support Vector Machine\n",
        "* Decision tree\n",
        "* Random Forest Classifier\n",
        "* Perceptron Model\n"
      ]
    },
    {
      "cell_type": "code",
      "metadata": {
        "colab": {
          "base_uri": "https://localhost:8080/",
          "height": 229
        },
        "id": "GIZqrRxzrrpb",
        "outputId": "5cec738b-e5eb-439a-81ba-4cf84bed2e36"
      },
      "source": [
        "from sklearn.neighbors import KNeighborsClassifier\n",
        "# Declare the model\n",
        "clf = KNeighborsClassifier(n_neighbors=3)\n",
        "\n",
        "# Train the model\n",
        "clf.fit(X_train, y_train)\n",
        "y_pred_KNeighborsClassifier = clf.predict(X_test)\n",
        "\n",
        "scrs = []\n",
        "\n",
        "#Get Accuracy Score\n",
        "score = accuracy_score(y_pred_KNeighborsClassifier,y_test)\n",
        "scrs.append(score)"
      ],
      "execution_count": 56,
      "outputs": [
        {
          "output_type": "error",
          "ename": "NameError",
          "evalue": "ignored",
          "traceback": [
            "\u001b[0;31m---------------------------------------------------------------------------\u001b[0m",
            "\u001b[0;31mNameError\u001b[0m                                 Traceback (most recent call last)",
            "\u001b[0;32m<ipython-input-56-f408339db012>\u001b[0m in \u001b[0;36m<module>\u001b[0;34m()\u001b[0m\n\u001b[1;32m      4\u001b[0m \u001b[0;34m\u001b[0m\u001b[0m\n\u001b[1;32m      5\u001b[0m \u001b[0;31m# Train the model\u001b[0m\u001b[0;34m\u001b[0m\u001b[0;34m\u001b[0m\u001b[0;34m\u001b[0m\u001b[0m\n\u001b[0;32m----> 6\u001b[0;31m \u001b[0mclf\u001b[0m\u001b[0;34m.\u001b[0m\u001b[0mfit\u001b[0m\u001b[0;34m(\u001b[0m\u001b[0mX_train\u001b[0m\u001b[0;34m,\u001b[0m \u001b[0my_train\u001b[0m\u001b[0;34m)\u001b[0m\u001b[0;34m\u001b[0m\u001b[0;34m\u001b[0m\u001b[0m\n\u001b[0m\u001b[1;32m      7\u001b[0m \u001b[0my_pred_KNeighborsClassifier\u001b[0m \u001b[0;34m=\u001b[0m \u001b[0mclf\u001b[0m\u001b[0;34m.\u001b[0m\u001b[0mpredict\u001b[0m\u001b[0;34m(\u001b[0m\u001b[0mX_test\u001b[0m\u001b[0;34m)\u001b[0m\u001b[0;34m\u001b[0m\u001b[0;34m\u001b[0m\u001b[0m\n\u001b[1;32m      8\u001b[0m \u001b[0;34m\u001b[0m\u001b[0m\n",
            "\u001b[0;31mNameError\u001b[0m: name 'X_train' is not defined"
          ]
        }
      ]
    },
    {
      "cell_type": "code",
      "metadata": {
        "id": "bHxRZXvtrrqx"
      },
      "source": [
        "#use cross validation score since this is a small size dataset \n",
        "#Get cross validation score of K-Nearest Neighbors\n",
        "\n",
        "from sklearn.model_selection import cross_val_score\n",
        "\n",
        "\n",
        "cv_scores = [] # store cross vadidation score of all the algorithms.\n",
        "\n",
        "score_knn=cross_val_score(clf, X,y, cv=10)\n",
        "\n",
        "print(\"K-Nearest Neighbors Accuracy: %0.2f (+/- %0.2f) with k value equals to 3\" % (score_knn.mean(), score_knn.std() * 2))"
      ],
      "execution_count": null,
      "outputs": []
    },
    {
      "cell_type": "code",
      "metadata": {
        "id": "gQCzF-0HrrtX"
      },
      "source": [
        "k_values = np.arange(1,20)\n",
        "train_accuracy = []\n",
        "test_accuracy = []\n",
        "\n",
        "for i, k in enumerate(k_values):\n",
        "    # k from 1 to 20(exclude)\n",
        "    knn = KNeighborsClassifier(n_neighbors=k)\n",
        "    # Fit with knn\n",
        "    knn.fit(X_train,y_train)\n",
        "    #train accuracy\n",
        "    train_accuracy.append(knn.score(X_train, y_train))\n",
        "    # test accuracy\n",
        "    test_accuracy.append(knn.score(X_test, y_test))\n",
        "\n",
        "\n",
        "plt.figure(figsize=[13,8])\n",
        "plt.plot(k_values, test_accuracy, label = 'Testing Accuracy')\n",
        "plt.plot(k_values, train_accuracy, label = 'Training Accuracy')\n",
        "plt.legend()\n",
        "plt.title('K-Values VS Accuracy graph representation')\n",
        "plt.xlabel('Number of Neighbors')\n",
        "plt.ylabel('Accuracy')\n",
        "plt.xticks(k_values)\n",
        "\n",
        "plt.show()\n",
        "print(\"Best accuracy is {} with K = {}\".format(np.max(test_accuracy),1+test_accuracy.index(np.max(test_accuracy))))\n",
        "\n",
        "cv_scores.append(np.max(test_accuracy))"
      ],
      "execution_count": null,
      "outputs": []
    },
    {
      "cell_type": "markdown",
      "metadata": {
        "id": "b7GlznC1ubI0"
      },
      "source": [
        "# 2.Support Vector Machine(SVM)"
      ]
    },
    {
      "cell_type": "code",
      "metadata": {
        "id": "yiUzd_uyrrvn"
      },
      "source": [
        "from sklearn.svm import SVC\n",
        "from sklearn.metrics import accuracy_score\n",
        "\n",
        "# Declare the model\n",
        "svm = SVC(kernel='linear', C=0.2, random_state=0)\n",
        "\n",
        "# Train the model\n",
        "svm.fit(X_train, y_train)\n",
        "y_pred_svm = svm.predict(X_test)\n",
        "\n",
        "#Get Accuracy Score\n",
        "score = accuracy_score(y_pred_svm,y_test)\n",
        "scrs.append(score)"
      ],
      "execution_count": null,
      "outputs": []
    },
    {
      "cell_type": "code",
      "metadata": {
        "id": "Y8x7X8yYrrx8"
      },
      "source": [
        "score_svm=cross_val_score(svm, X,y, cv=10)\n",
        "print(\"Support Vector Machine Accuracy: %0.2f (+/- %0.2f)\" % (score_svm.mean(), score_svm.std() * 2))\n",
        "cv_score = score_svm.mean()\n",
        "cv_scores.append(cv_score)"
      ],
      "execution_count": null,
      "outputs": []
    },
    {
      "cell_type": "markdown",
      "metadata": {
        "id": "NT4XvJe0uj5Y"
      },
      "source": [
        "# 3. Decision treee"
      ]
    },
    {
      "cell_type": "code",
      "metadata": {
        "id": "sRb_2sVXrr0O"
      },
      "source": [
        "\n",
        "from pydotplus import graph_from_dot_data\n",
        "from sklearn.tree import export_graphviz\n",
        "from IPython.display import Image\n",
        "from sklearn.tree import DecisionTreeClassifier\n",
        "from sklearn.metrics import accuracy_score"
      ],
      "execution_count": null,
      "outputs": []
    },
    {
      "cell_type": "code",
      "metadata": {
        "id": "9mS64XJYrr2S"
      },
      "source": [
        "# Declare the model\n",
        "cf = DecisionTreeClassifier(random_state = 0,criterion='gini')\n",
        "# train the model\n",
        "cf.fit(X_train, y_train)\n",
        "\n",
        "y_pred_DecisionTreeClassifier = cf.predict(X_test)\n",
        "\n",
        "\n",
        "scr = accuracy_score(y_pred_DecisionTreeClassifier,y_test)\n",
        "scrs.append(scr)\n",
        "\n",
        "global tree  \n",
        "tree = []\n",
        "tree = cf\n",
        "\n",
        "dot_data = export_graphviz(tree,\n",
        "                           filled=True, \n",
        "                           rounded=True,\n",
        "                           class_names=[\"1\",\"2\",\"3\",\"4\",\"5\",\"6\",\"7\" ],\n",
        "                           feature_names=X.columns,\n",
        "                           out_file=None) \n",
        "\n",
        "graph = graph_from_dot_data(dot_data) \n",
        "\n",
        "Image(graph.create_png())"
      ],
      "execution_count": null,
      "outputs": []
    },
    {
      "cell_type": "code",
      "metadata": {
        "id": "RlCtOkN9rr6c"
      },
      "source": [
        "from sklearn.model_selection import cross_val_score\n",
        "score_tree=cross_val_score(cf, X,y, cv=10)\n",
        "score_tree"
      ],
      "execution_count": null,
      "outputs": []
    },
    {
      "cell_type": "code",
      "metadata": {
        "id": "YO5DLalWrr8g"
      },
      "source": [
        "print(\"Decision Tree Accuracy: %0.2f (+/- %0.2f)\" % (score_tree.mean(), score_tree.std() * 2))\n",
        "cv_score = score_tree.mean()\n",
        "cv_scores.append(cv_score)"
      ],
      "execution_count": null,
      "outputs": []
    },
    {
      "cell_type": "markdown",
      "metadata": {
        "id": "QpI4h7g_uy91"
      },
      "source": [
        "# 4. Random Forest Classifier"
      ]
    },
    {
      "cell_type": "code",
      "metadata": {
        "id": "mOULjfj4rr-g"
      },
      "source": [
        "from sklearn.ensemble import RandomForestClassifier\n",
        "\n",
        "\n",
        "# Declare and train the model\n",
        "clf = RandomForestClassifier(random_state = 0,n_estimators=25, n_jobs = 2)\n",
        "clf.fit(X_train, y_train)\n",
        "y_pred_RandomForestClassifier = clf.predict(X_test)\n",
        "#Get Accuracy Score\n",
        "score = accuracy_score(y_pred_RandomForestClassifier,y_test)\n",
        "scrs.append(score)\n",
        "\n",
        "global importances\n",
        "# Get the feature importances\n",
        "importances = []\n",
        "importances = clf.feature_importances_\n",
        "\n",
        "\n",
        "# Convert the importances into one-dimensional 1darray with corresponding df column names as axis labels\n",
        "f_importances = pd.Series(importances, X.columns)\n",
        "\n",
        "# Sort the array in descending order of the importances\n",
        "f_importances.sort_values(ascending=False, inplace=True)\n",
        "\n",
        "# Make the bar Plot from f_importances \n",
        "f_importances.plot(x='Features', y='Importance', kind='bar', figsize=(16,9), rot=45, fontsize=30)\n",
        "\n",
        "# Show the plot\n",
        "plt.tight_layout()\n",
        "plt.show()"
      ],
      "execution_count": null,
      "outputs": []
    },
    {
      "cell_type": "code",
      "metadata": {
        "id": "B-AMA2-4rsBN"
      },
      "source": [
        "#Get cross validation score of random forest model\n",
        "score_forest=cross_val_score(clf, X,y, cv=10)\n",
        "score_forest\n",
        "print(\"Random Forest Accuracy: %0.2f (+/- %0.2f)\" % (score_forest.mean(), score_forest.std() * 2))\n",
        "cv_score = score_forest.mean()\n",
        "cv_scores.append(cv_score)"
      ],
      "execution_count": null,
      "outputs": []
    },
    {
      "cell_type": "markdown",
      "metadata": {
        "id": "X2x94tFEu8WX"
      },
      "source": [
        "# 5. Perceptron Model"
      ]
    },
    {
      "cell_type": "code",
      "metadata": {
        "id": "s8FvxZO7rsC9"
      },
      "source": [
        "from sklearn.linear_model import Perceptron\n",
        "\n",
        "# Declare the model\n",
        "clf = Perceptron(eta0=0.1, random_state=0)\n",
        "\n",
        "# Train the model\n",
        "clf.fit(X_train, y_train)\n",
        "y_pred_Perceptron = clf.predict(X_test)\n",
        "#Get Accuracy Score\n",
        "score = accuracy_score(y_pred_Perceptron,y_test)\n",
        "scrs.append(score)"
      ],
      "execution_count": null,
      "outputs": []
    },
    {
      "cell_type": "code",
      "metadata": {
        "id": "Gm4du74HrsHu"
      },
      "source": [
        "#Get cross validation score of Perceptron\n",
        "score_perceptron=cross_val_score(clf, X,y, cv=10)\n",
        "score_perceptron\n",
        "print(\"Perceptron Accuracy: %0.2f (+/- %0.2f)\" % (score_perceptron.mean(), score_perceptron.std() * 2))\n",
        "cv_score = score_perceptron.mean()\n",
        "cv_scores.append(cv_score)"
      ],
      "execution_count": null,
      "outputs": []
    },
    {
      "cell_type": "markdown",
      "metadata": {
        "id": "wdH5BBQrvGli"
      },
      "source": [
        "# **Comparision of All 5 Algorithm**"
      ]
    },
    {
      "cell_type": "code",
      "metadata": {
        "id": "MBE6HiZGrsJw"
      },
      "source": [
        "# Convert the Accuracy Scores into one-dimensional 1darray with corresponding classifier names as axis labels\n",
        "\n",
        "Acc_scores = pd.Series(scrs, ['KNeighborsClassifier','Support Vector Machine','Decision tree', 'Random forest','Perceptron'])\n",
        "\n",
        "current_palette = sns.color_palette(\"muted\", n_colors=5)\n",
        "cmap = ListedColormap(sns.color_palette(current_palette).as_hex())\n",
        "#colors = np.random.randint(0,5,5)\n",
        "\n",
        "# Make the bar Plot from f_importances \n",
        "Acc_scores.plot(x='Classifiers', y='Accuracy scores',kind = 'bar',figsize=(16,9), rot=45, fontsize=30, colormap=cmap)\n",
        "#plt.bar(fscores,clfs)\n",
        "plt.xlabel('', fontsize=30)\n",
        "plt.ylabel('Accuracy Score', fontsize=30)\n",
        "plt.ylim([0.75,1])\n",
        "# Show the plot\n",
        "plt.tight_layout()\n",
        "plt.show()"
      ],
      "execution_count": null,
      "outputs": []
    },
    {
      "cell_type": "code",
      "metadata": {
        "id": "WKC2a8BwrsLr"
      },
      "source": [
        ""
      ],
      "execution_count": null,
      "outputs": []
    },
    {
      "cell_type": "code",
      "metadata": {
        "id": "cBO1TOK4rsNs"
      },
      "source": [
        ""
      ],
      "execution_count": null,
      "outputs": []
    },
    {
      "cell_type": "code",
      "metadata": {
        "id": "2cNQ2-11rsQG"
      },
      "source": [
        ""
      ],
      "execution_count": null,
      "outputs": []
    },
    {
      "cell_type": "code",
      "metadata": {
        "id": "pEzDTVdhrsR8"
      },
      "source": [
        ""
      ],
      "execution_count": null,
      "outputs": []
    },
    {
      "cell_type": "code",
      "metadata": {
        "id": "9Br3o4KyrsUN"
      },
      "source": [
        ""
      ],
      "execution_count": null,
      "outputs": []
    },
    {
      "cell_type": "code",
      "metadata": {
        "id": "675GMbNPrsV6"
      },
      "source": [
        ""
      ],
      "execution_count": null,
      "outputs": []
    }
  ]
}